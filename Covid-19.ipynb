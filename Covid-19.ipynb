{
 "cells": [
  {
   "cell_type": "markdown",
   "metadata": {},
   "source": [
    "# Introdução a análise estatística com Pandas\n",
    "\n",
    "## Problema utilizado\n",
    "\n",
    "Para essa análise selecionamos a base de dados sobre o Covid-19 disponível no Kaggle. Para acessá-la vá ao endereço https://www.kaggle.com/sudalairajkumar/novel-corona-virus-2019-dataset\n",
    "\n",
    "## Sobre o Pandas\n",
    "\n",
    "É uma ferramenta Open Source que permite realizar análise de dados e manipula-los utilizando a linguagem de programação Python. Para realizar análises estatísticas e preparar os dados para diversos algoritmos de inteligência artificial, essa é sem dúvidas uma das ferramentas que você deve manter em seu canivete suíço. (https://pandas.pydata.org/)\n",
    "\n",
    "\n",
    "### Importando o Pandas para o Projeto"
   ]
  },
  {
   "cell_type": "code",
   "execution_count": null,
   "metadata": {},
   "outputs": [],
   "source": []
  },
  {
   "cell_type": "markdown",
   "metadata": {},
   "source": [
    "### Carregando o nosso dataset\n",
    "\n",
    "Guardei o arquivo na pasta datasets junto ao arquivo do notebook. Iremos utilizar o comando read_csv do pandas para carrega-lo em memória. A variável criada é chamada de dataframe."
   ]
  },
  {
   "cell_type": "code",
   "execution_count": null,
   "metadata": {},
   "outputs": [],
   "source": []
  },
  {
   "cell_type": "markdown",
   "metadata": {},
   "source": [
    "### Verificando os registros no inicio da lista\n",
    "\n",
    "O primeiro passo é identificar os dados que estão no topo do arquivo e ver quais serão as colunas que iremos trabalhar. Para essa análise iremos adotar a coluna da idade.\n",
    "\n",
    "Vamos ver os cinco primeiros registros com a função head do dataframe."
   ]
  },
  {
   "cell_type": "code",
   "execution_count": null,
   "metadata": {},
   "outputs": [],
   "source": []
  },
  {
   "cell_type": "markdown",
   "metadata": {},
   "source": [
    "### Selecionando as colunas desejadas"
   ]
  },
  {
   "cell_type": "code",
   "execution_count": null,
   "metadata": {},
   "outputs": [],
   "source": []
  },
  {
   "cell_type": "code",
   "execution_count": null,
   "metadata": {},
   "outputs": [],
   "source": []
  },
  {
   "cell_type": "markdown",
   "metadata": {},
   "source": [
    "### Removendo os valores nulos da lista de idade\n",
    "\n",
    "Detalhes:\n",
    "https://pandas.pydata.org/pandas-docs/stable/reference/api/pandas.Series.dropna.html"
   ]
  },
  {
   "cell_type": "code",
   "execution_count": null,
   "metadata": {},
   "outputs": [],
   "source": []
  },
  {
   "cell_type": "code",
   "execution_count": null,
   "metadata": {},
   "outputs": [],
   "source": []
  },
  {
   "cell_type": "markdown",
   "metadata": {},
   "source": [
    "### Média e Desvio Padrão\n",
    "\n",
    "Detalhes\n",
    "- https://pandas.pydata.org/pandas-docs/stable/reference/api/pandas.Series.std.html\n",
    "- https://pandas.pydata.org/pandas-docs/stable/reference/api/pandas.Series.mean.html"
   ]
  },
  {
   "cell_type": "code",
   "execution_count": null,
   "metadata": {},
   "outputs": [],
   "source": []
  },
  {
   "cell_type": "code",
   "execution_count": null,
   "metadata": {},
   "outputs": [],
   "source": []
  }
 ],
 "metadata": {
  "kernelspec": {
   "display_name": "Python 3",
   "language": "python",
   "name": "python3"
  },
  "language_info": {
   "codemirror_mode": {
    "name": "ipython",
    "version": 3
   },
   "file_extension": ".py",
   "mimetype": "text/x-python",
   "name": "python",
   "nbconvert_exporter": "python",
   "pygments_lexer": "ipython3",
   "version": "3.7.3"
  }
 },
 "nbformat": 4,
 "nbformat_minor": 2
}
